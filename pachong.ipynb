{
 "cells": [
  {
   "cell_type": "code",
   "execution_count": 5,
   "metadata": {},
   "outputs": [],
   "source": [
    "import numpy as np\n",
    "import requests\n",
    "def get_random_ua():\n",
    "    random_ua = ''\n",
    "    ua_file = 'ua_file.txt'\n",
    "    try:\n",
    "        with open(ua_file) as f:\n",
    "            lines = f.readlines()\n",
    "        if len(lines) > 0:\n",
    "            prng = np.random.RandomState()\n",
    "            index = prng.permutation(len(lines) - 1)\n",
    "            idx = np.asarray(index, dtype=np.integer)[0]\n",
    "            random_proxy = lines[int(idx)]\n",
    "    except Exception as ex:\n",
    "        print('Exception in random_ua')\n",
    "        print(str(ex))\n",
    "    finally:\n",
    "        return random_ua"
   ]
  },
  {
   "cell_type": "code",
   "execution_count": 7,
   "metadata": {},
   "outputs": [
    {
     "data": {
      "text/plain": [
       "'ua_file.txt 包含一个来自https://udger.com/resources/ua-list的每行 UA 。 \\n函数 get_random_ua 将始终从该文件中返回唯一的 UA 。\\n你现在可以调用如下函数：'"
      ]
     },
     "execution_count": 7,
     "metadata": {},
     "output_type": "execute_result"
    }
   ],
   "source": [
    "'''ua_file.txt 包含一个来自https://udger.com/resources/ua-list的每行 UA 。 \n",
    "函数 get_random_ua 将始终从该文件中返回唯一的 UA 。\n",
    "你现在可以调用如下函数：'''\n",
    "user_agent = get_random_ua()\n",
    "headers = {\n",
    "        'user-agent': user_agent,\n",
    "    }\n",
    "r = requests.get('example.com',headers=headers)"
   ]
  }
 ],
 "metadata": {
  "kernelspec": {
   "display_name": "Python 3",
   "language": "python",
   "name": "python3"
  },
  "language_info": {
   "codemirror_mode": {
    "name": "ipython",
    "version": 3
   },
   "file_extension": ".py",
   "mimetype": "text/x-python",
   "name": "python",
   "nbconvert_exporter": "python",
   "pygments_lexer": "ipython3",
   "version": "3.6.5"
  }
 },
 "nbformat": 4,
 "nbformat_minor": 2
}
